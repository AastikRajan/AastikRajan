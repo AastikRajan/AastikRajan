{
 "cells": [
  {
   "attachments": {},
   "cell_type": "markdown",
   "metadata": {},
   "source": [
    "`ocm2` modules can can be used to export HDF subdatasets to geotiff (not georeferenced yet) or they can be used to retrieve metadata information or extents. Finally they can also be used to combine all this processes and directly convert HDF subdatasets to reflectance values, georeference them and then export as geoTIFF files. \n",
    "\n",
    "The `ocm2` modules and their uses are:\n",
    "\n",
    "- `ExportSubdatasets()`: This function takes the folder path and the HDF file as input and exports individual layers to TIFF (named GeoTIFF)\n",
    "- `metaInfo`: This function takes the folder path and the HDF file as input and returns the metadata of the HDF file.\n",
    "- `GetExtent`: Return list of corner coordinates from a gdal Dataset "
   ]
  },
  {
   "cell_type": "code",
   "execution_count": 1,
   "metadata": {},
   "outputs": [],
   "source": [
    "import ocm2"
   ]
  },
  {
   "cell_type": "code",
   "execution_count": 2,
   "metadata": {},
   "outputs": [
    {
     "data": {
      "text/plain": [
       "'D:\\\\Aerosol Modelling\\\\Aerosol\\\\Output\\\\OCM2\\\\Test\\\\GeoTiff'"
      ]
     },
     "execution_count": 2,
     "metadata": {},
     "output_type": "execute_result"
    }
   ],
   "source": [
    "path = r'D:\\Aerosol Modelling\\Aerosol\\Output\\OCM2\\Test'\n",
    "hdf_file = 'O2_26APR2021_009_011_GAN_L1B_ST_S.hdf'\n",
    "ocm2.ExportSubdatasets(path, hdf_file)"
   ]
  },
  {
   "cell_type": "code",
   "execution_count": null,
   "metadata": {},
   "outputs": [],
   "source": [
    "ocm2.metaInfo(path=r'D:\\OCM2\\Test', hdf_file='O2_26APR2021_009_011_GAN_L1B_ST_S.hdf')"
   ]
  },
  {
   "cell_type": "code",
   "execution_count": null,
   "metadata": {},
   "outputs": [],
   "source": [
    "from osgeo import gdal\n",
    "ds= gdal.Open(r'D:\\OCM2\\Test\\O2_26APR2021_009_011_GAN_L1B_ST_S.hdf')\n",
    "ocm2.GetExtent(ds)"
   ]
  }
 ],
 "metadata": {
  "kernelspec": {
   "display_name": "geo",
   "language": "python",
   "name": "python3"
  },
  "language_info": {
   "codemirror_mode": {
    "name": "ipython",
    "version": 3
   },
   "file_extension": ".py",
   "mimetype": "text/x-python",
   "name": "python",
   "nbconvert_exporter": "python",
   "pygments_lexer": "ipython3",
   "version": "3.10.6"
  },
  "orig_nbformat": 4
 },
 "nbformat": 4,
 "nbformat_minor": 2
}

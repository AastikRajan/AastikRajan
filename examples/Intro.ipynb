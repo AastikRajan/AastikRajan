{
 "cells": [
  {
   "cell_type": "code",
   "execution_count": 1,
   "metadata": {},
   "outputs": [],
   "source": [
    "def ExportSubdatasets(path, hdf_file):\n",
    "\n",
    "    import os, shutil\n",
    "    from osgeo import gdal, osr\n",
    "    \n",
    "    '''\n",
    "    This function takes the folder path and the HDF file as input and exports individual layers to TIFF (named GeoTIFF)\n",
    "    \n",
    "    Parameters:\n",
    "    path (str): Path to the folder containing the HDF file\n",
    "    hdf_file (str): Name of the HDF file\n",
    "\n",
    "    Returns:\n",
    "    opf_tif (str): Path to the folder containing the exported TIFF files\n",
    "    \n",
    "    '''\n",
    "    opf_tif = os.path.join(path, 'GeoTiff')\n",
    "    if os.path.exists(opf_tif):\n",
    "        shutil.rmtree(opf_tif)\n",
    "    os.makedirs(opf_tif)\n",
    "    \n",
    "    inp_hdf = os.path.join(path, hdf_file)\n",
    "    hdf_ds = gdal.Open(inp_hdf, gdal.GA_ReadOnly)\n",
    "    subdatasets = hdf_ds.GetSubDatasets()\n",
    "    \n",
    "    for i in range(0, len(subdatasets)):\n",
    "        subdataset_name = subdatasets[i][0]\n",
    "        band_ds = gdal.Open(subdataset_name, gdal.GA_ReadOnly)\n",
    "        band_path = os.path.join(opf_tif, 'band{0}.TIF'.format(i))\n",
    "        if band_ds.RasterCount > 1:\n",
    "            for j in range(1,band_ds.RasterCount + 1):\n",
    "                band = band_ds.GetRasterBand(j)\n",
    "                band_array = band.ReadAsArray()\n",
    "        else:\n",
    "            band_array = band_ds.ReadAsArray()\n",
    "        \n",
    "        out_ds = gdal.GetDriverByName('GTiff').Create(band_path,\n",
    "                                                      band_ds.RasterXSize,\n",
    "                                                      band_ds.RasterYSize,\n",
    "                                                      1,\n",
    "                                                      gdal.GDT_Float64,\n",
    "                                                      ['COMPRESS=LZW', 'TILED=YES'])\n",
    "        \n",
    "        \n",
    "        out_ds.SetGeoTransform(band_ds.GetGeoTransform())\n",
    "        out_ds.SetProjection(band_ds.GetProjection())\n",
    "        out_ds.GetRasterBand(1).WriteArray(band_array)\n",
    "        out_ds.GetRasterBand(1).SetNoDataValue(-32768)\n",
    "        \n",
    "    out_ds = None\n",
    "        \n",
    "    return opf_tif"
   ]
  },
  {
   "cell_type": "code",
   "execution_count": 2,
   "metadata": {},
   "outputs": [
    {
     "data": {
      "text/plain": [
       "'D:\\\\Aerosol Modelling\\\\Aerosol\\\\Output\\\\OCM2\\\\Test\\\\GeoTiff'"
      ]
     },
     "execution_count": 2,
     "metadata": {},
     "output_type": "execute_result"
    }
   ],
   "source": [
    "ExportSubdatasets(path=r'D:\\Aerosol Modelling\\Aerosol\\Output\\OCM2\\Test', hdf_file='O2_26APR2021_009_011_GAN_L1B_ST_S.hdf')"
   ]
  },
  {
   "cell_type": "code",
   "execution_count": 1,
   "metadata": {},
   "outputs": [],
   "source": [
    "import ocm2"
   ]
  },
  {
   "cell_type": "code",
   "execution_count": 2,
   "metadata": {},
   "outputs": [
    {
     "data": {
      "text/plain": [
       "'D:\\\\Aerosol Modelling\\\\Aerosol\\\\Output\\\\OCM2\\\\Test\\\\GeoTiff'"
      ]
     },
     "execution_count": 2,
     "metadata": {},
     "output_type": "execute_result"
    }
   ],
   "source": [
    "ocm2.ExportSubdatasets(path=r'D:\\Aerosol Modelling\\Aerosol\\Output\\OCM2\\Test', hdf_file='O2_26APR2021_009_011_GAN_L1B_ST_S.hdf')"
   ]
  }
 ],
 "metadata": {
  "kernelspec": {
   "display_name": "geo",
   "language": "python",
   "name": "python3"
  },
  "language_info": {
   "codemirror_mode": {
    "name": "ipython",
    "version": 3
   },
   "file_extension": ".py",
   "mimetype": "text/x-python",
   "name": "python",
   "nbconvert_exporter": "python",
   "pygments_lexer": "ipython3",
   "version": "3.10.6"
  },
  "orig_nbformat": 4
 },
 "nbformat": 4,
 "nbformat_minor": 2
}
